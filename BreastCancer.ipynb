{
  "nbformat": 4,
  "nbformat_minor": 0,
  "metadata": {
    "colab": {
      "provenance": [],
      "include_colab_link": true
    },
    "kernelspec": {
      "name": "python3",
      "display_name": "Python 3"
    },
    "accelerator": "TPU"
  },
  "cells": [
    {
      "cell_type": "markdown",
      "metadata": {
        "id": "view-in-github",
        "colab_type": "text"
      },
      "source": [
        "<a href=\"https://colab.research.google.com/github/MahankaliShruthi/Cancer-Detection/blob/main/BreastCancer.ipynb\" target=\"_parent\"><img src=\"https://colab.research.google.com/assets/colab-badge.svg\" alt=\"Open In Colab\"/></a>"
      ]
    },
    {
      "cell_type": "code",
      "metadata": {
        "id": "uiiuqYjsGsX_",
        "colab": {
          "base_uri": "https://localhost:8080/",
          "height": 51
        },
        "outputId": "c8329e8f-27e1-4bf2-d770-bc151e1d3905"
      },
      "source": [
        "pip install opencv-python"
      ],
      "execution_count": null,
      "outputs": [
        {
          "output_type": "stream",
          "text": [
            "Requirement already satisfied: opencv-python in /usr/local/lib/python3.6/dist-packages (4.1.2.30)\n",
            "Requirement already satisfied: numpy>=1.11.3 in /usr/local/lib/python3.6/dist-packages (from opencv-python) (1.18.5)\n"
          ],
          "name": "stdout"
        }
      ]
    },
    {
      "cell_type": "code",
      "metadata": {
        "id": "Gi4klXgWG0FW",
        "colab": {
          "base_uri": "https://localhost:8080/",
          "height": 870
        },
        "outputId": "f16d0366-edc1-4b32-b8cc-cbe9a2ed6e7b"
      },
      "source": [
        "pip install pillow tensorflow keras imutils scikit-learn matplotlib"
      ],
      "execution_count": null,
      "outputs": [
        {
          "output_type": "stream",
          "text": [
            "Requirement already satisfied: pillow in /usr/local/lib/python3.6/dist-packages (7.0.0)\n",
            "Requirement already satisfied: tensorflow in /usr/local/lib/python3.6/dist-packages (2.2.0)\n",
            "Requirement already satisfied: keras in /usr/local/lib/python3.6/dist-packages (2.3.1)\n",
            "Requirement already satisfied: imutils in /usr/local/lib/python3.6/dist-packages (0.5.3)\n",
            "Requirement already satisfied: scikit-learn in /usr/local/lib/python3.6/dist-packages (0.22.2.post1)\n",
            "Requirement already satisfied: matplotlib in /usr/local/lib/python3.6/dist-packages (3.2.2)\n",
            "Requirement already satisfied: six>=1.12.0 in /usr/local/lib/python3.6/dist-packages (from tensorflow) (1.15.0)\n",
            "Requirement already satisfied: gast==0.3.3 in /usr/local/lib/python3.6/dist-packages (from tensorflow) (0.3.3)\n",
            "Requirement already satisfied: keras-preprocessing>=1.1.0 in /usr/local/lib/python3.6/dist-packages (from tensorflow) (1.1.2)\n",
            "Requirement already satisfied: tensorflow-estimator<2.3.0,>=2.2.0 in /usr/local/lib/python3.6/dist-packages (from tensorflow) (2.2.0)\n",
            "Requirement already satisfied: grpcio>=1.8.6 in /usr/local/lib/python3.6/dist-packages (from tensorflow) (1.30.0)\n",
            "Requirement already satisfied: wheel>=0.26; python_version >= \"3\" in /usr/local/lib/python3.6/dist-packages (from tensorflow) (0.34.2)\n",
            "Requirement already satisfied: opt-einsum>=2.3.2 in /usr/local/lib/python3.6/dist-packages (from tensorflow) (3.2.1)\n",
            "Requirement already satisfied: numpy<2.0,>=1.16.0 in /usr/local/lib/python3.6/dist-packages (from tensorflow) (1.18.5)\n",
            "Requirement already satisfied: astunparse==1.6.3 in /usr/local/lib/python3.6/dist-packages (from tensorflow) (1.6.3)\n",
            "Requirement already satisfied: tensorboard<2.3.0,>=2.2.0 in /usr/local/lib/python3.6/dist-packages (from tensorflow) (2.2.2)\n",
            "Requirement already satisfied: wrapt>=1.11.1 in /usr/local/lib/python3.6/dist-packages (from tensorflow) (1.12.1)\n",
            "Requirement already satisfied: scipy==1.4.1; python_version >= \"3\" in /usr/local/lib/python3.6/dist-packages (from tensorflow) (1.4.1)\n",
            "Requirement already satisfied: h5py<2.11.0,>=2.10.0 in /usr/local/lib/python3.6/dist-packages (from tensorflow) (2.10.0)\n",
            "Requirement already satisfied: google-pasta>=0.1.8 in /usr/local/lib/python3.6/dist-packages (from tensorflow) (0.2.0)\n",
            "Requirement already satisfied: absl-py>=0.7.0 in /usr/local/lib/python3.6/dist-packages (from tensorflow) (0.9.0)\n",
            "Requirement already satisfied: termcolor>=1.1.0 in /usr/local/lib/python3.6/dist-packages (from tensorflow) (1.1.0)\n",
            "Requirement already satisfied: protobuf>=3.8.0 in /usr/local/lib/python3.6/dist-packages (from tensorflow) (3.12.2)\n",
            "Requirement already satisfied: keras-applications>=1.0.6 in /usr/local/lib/python3.6/dist-packages (from keras) (1.0.8)\n",
            "Requirement already satisfied: pyyaml in /usr/local/lib/python3.6/dist-packages (from keras) (3.13)\n",
            "Requirement already satisfied: joblib>=0.11 in /usr/local/lib/python3.6/dist-packages (from scikit-learn) (0.16.0)\n",
            "Requirement already satisfied: cycler>=0.10 in /usr/local/lib/python3.6/dist-packages (from matplotlib) (0.10.0)\n",
            "Requirement already satisfied: python-dateutil>=2.1 in /usr/local/lib/python3.6/dist-packages (from matplotlib) (2.8.1)\n",
            "Requirement already satisfied: pyparsing!=2.0.4,!=2.1.2,!=2.1.6,>=2.0.1 in /usr/local/lib/python3.6/dist-packages (from matplotlib) (2.4.7)\n",
            "Requirement already satisfied: kiwisolver>=1.0.1 in /usr/local/lib/python3.6/dist-packages (from matplotlib) (1.2.0)\n",
            "Requirement already satisfied: google-auth-oauthlib<0.5,>=0.4.1 in /usr/local/lib/python3.6/dist-packages (from tensorboard<2.3.0,>=2.2.0->tensorflow) (0.4.1)\n",
            "Requirement already satisfied: markdown>=2.6.8 in /usr/local/lib/python3.6/dist-packages (from tensorboard<2.3.0,>=2.2.0->tensorflow) (3.2.2)\n",
            "Requirement already satisfied: google-auth<2,>=1.6.3 in /usr/local/lib/python3.6/dist-packages (from tensorboard<2.3.0,>=2.2.0->tensorflow) (1.17.2)\n",
            "Requirement already satisfied: tensorboard-plugin-wit>=1.6.0 in /usr/local/lib/python3.6/dist-packages (from tensorboard<2.3.0,>=2.2.0->tensorflow) (1.7.0)\n",
            "Requirement already satisfied: setuptools>=41.0.0 in /usr/local/lib/python3.6/dist-packages (from tensorboard<2.3.0,>=2.2.0->tensorflow) (49.1.0)\n",
            "Requirement already satisfied: werkzeug>=0.11.15 in /usr/local/lib/python3.6/dist-packages (from tensorboard<2.3.0,>=2.2.0->tensorflow) (1.0.1)\n",
            "Requirement already satisfied: requests<3,>=2.21.0 in /usr/local/lib/python3.6/dist-packages (from tensorboard<2.3.0,>=2.2.0->tensorflow) (2.23.0)\n",
            "Requirement already satisfied: requests-oauthlib>=0.7.0 in /usr/local/lib/python3.6/dist-packages (from google-auth-oauthlib<0.5,>=0.4.1->tensorboard<2.3.0,>=2.2.0->tensorflow) (1.3.0)\n",
            "Requirement already satisfied: importlib-metadata; python_version < \"3.8\" in /usr/local/lib/python3.6/dist-packages (from markdown>=2.6.8->tensorboard<2.3.0,>=2.2.0->tensorflow) (1.7.0)\n",
            "Requirement already satisfied: rsa<5,>=3.1.4; python_version >= \"3\" in /usr/local/lib/python3.6/dist-packages (from google-auth<2,>=1.6.3->tensorboard<2.3.0,>=2.2.0->tensorflow) (4.6)\n",
            "Requirement already satisfied: cachetools<5.0,>=2.0.0 in /usr/local/lib/python3.6/dist-packages (from google-auth<2,>=1.6.3->tensorboard<2.3.0,>=2.2.0->tensorflow) (4.1.1)\n",
            "Requirement already satisfied: pyasn1-modules>=0.2.1 in /usr/local/lib/python3.6/dist-packages (from google-auth<2,>=1.6.3->tensorboard<2.3.0,>=2.2.0->tensorflow) (0.2.8)\n",
            "Requirement already satisfied: certifi>=2017.4.17 in /usr/local/lib/python3.6/dist-packages (from requests<3,>=2.21.0->tensorboard<2.3.0,>=2.2.0->tensorflow) (2020.6.20)\n",
            "Requirement already satisfied: chardet<4,>=3.0.2 in /usr/local/lib/python3.6/dist-packages (from requests<3,>=2.21.0->tensorboard<2.3.0,>=2.2.0->tensorflow) (3.0.4)\n",
            "Requirement already satisfied: idna<3,>=2.5 in /usr/local/lib/python3.6/dist-packages (from requests<3,>=2.21.0->tensorboard<2.3.0,>=2.2.0->tensorflow) (2.10)\n",
            "Requirement already satisfied: urllib3!=1.25.0,!=1.25.1,<1.26,>=1.21.1 in /usr/local/lib/python3.6/dist-packages (from requests<3,>=2.21.0->tensorboard<2.3.0,>=2.2.0->tensorflow) (1.24.3)\n",
            "Requirement already satisfied: oauthlib>=3.0.0 in /usr/local/lib/python3.6/dist-packages (from requests-oauthlib>=0.7.0->google-auth-oauthlib<0.5,>=0.4.1->tensorboard<2.3.0,>=2.2.0->tensorflow) (3.1.0)\n",
            "Requirement already satisfied: zipp>=0.5 in /usr/local/lib/python3.6/dist-packages (from importlib-metadata; python_version < \"3.8\"->markdown>=2.6.8->tensorboard<2.3.0,>=2.2.0->tensorflow) (3.1.0)\n",
            "Requirement already satisfied: pyasn1>=0.1.3 in /usr/local/lib/python3.6/dist-packages (from rsa<5,>=3.1.4; python_version >= \"3\"->google-auth<2,>=1.6.3->tensorboard<2.3.0,>=2.2.0->tensorflow) (0.4.8)\n"
          ],
          "name": "stdout"
        }
      ]
    },
    {
      "cell_type": "code",
      "metadata": {
        "id": "4c4eJSKwG8zY",
        "colab": {
          "base_uri": "https://localhost:8080/",
          "height": 122
        },
        "outputId": "1d0a36c1-2dc0-4c3f-9bc8-0f3c22b50824"
      },
      "source": [
        "from google.colab import drive\n",
        "drive.mount('/content/drive')"
      ],
      "execution_count": null,
      "outputs": [
        {
          "output_type": "stream",
          "text": [
            "Go to this URL in a browser: https://accounts.google.com/o/oauth2/auth?client_id=947318989803-6bn6qk8qdgf4n4g3pfee6491hc0brc4i.apps.googleusercontent.com&redirect_uri=urn%3aietf%3awg%3aoauth%3a2.0%3aoob&response_type=code&scope=email%20https%3a%2f%2fwww.googleapis.com%2fauth%2fdocs.test%20https%3a%2f%2fwww.googleapis.com%2fauth%2fdrive%20https%3a%2f%2fwww.googleapis.com%2fauth%2fdrive.photos.readonly%20https%3a%2f%2fwww.googleapis.com%2fauth%2fpeopleapi.readonly\n",
            "\n",
            "Enter your authorization code:\n",
            "··········\n",
            "Mounted at /content/drive\n"
          ],
          "name": "stdout"
        }
      ]
    },
    {
      "cell_type": "code",
      "metadata": {
        "id": "gkL-wWxXL9DJ"
      },
      "source": [
        "# import the necessary packages\n",
        "import os\n",
        "# initialize the path to the *original* input directory of images\n",
        "ORIG_INPUT_DATASET = \"/content/drive/My Drive/cancer\"\n",
        "# initialize the base path to the *new* directory that will contain\n",
        "# our images after computing the training and testing split\n",
        "BASE_PATH = \"/content/drive/My Drive/idc\"\n",
        "# derive the training, validation, and testing directories\n",
        "TRAIN_PATH = os.path.sep.join([BASE_PATH, \"training\"])\n",
        "VAL_PATH = os.path.sep.join([BASE_PATH, \"validation\"])\n",
        "TEST_PATH = os.path.sep.join([BASE_PATH, \"testing\"])\n",
        "# define the amount of data that will be used training\n",
        "TRAIN_SPLIT = 0.8\n",
        "# the amount of validation data will be a percentage of the\n",
        "# *training* data\n",
        "VAL_SPLIT = 0.1"
      ],
      "execution_count": null,
      "outputs": []
    },
    {
      "cell_type": "code",
      "metadata": {
        "id": "dQzYkgbOvH_R"
      },
      "source": [
        "# import the necessary packages\n",
        "#from pyimagesearch import config\n",
        "from imutils import paths\n",
        "import random\n",
        "import shutil\n",
        "import os\n",
        "# grab the paths to all input images in the original input directory\n",
        "# and shuffle them\n",
        "imagePaths = list(paths.list_images(ORIG_INPUT_DATASET))\n",
        "random.seed(42)\n",
        "random.shuffle(imagePaths)\n",
        "# compute the training and testing split\n",
        "i = int(len(imagePaths) * TRAIN_SPLIT)\n",
        "trainPaths = imagePaths[:i]\n",
        "testPaths = imagePaths[i:]\n",
        "# we'll be using part of the training data for validation\n",
        "i = int(len(trainPaths) * VAL_SPLIT)\n",
        "valPaths = trainPaths[:i]\n",
        "trainPaths = trainPaths[i:]\n",
        "# define the datasets that we'll be building\n",
        "datasets = [\n",
        "\t(\"training\", trainPaths, TRAIN_PATH),\n",
        "\t(\"validation\", valPaths, VAL_PATH),\n",
        "\t(\"testing\", testPaths, TEST_PATH)\n",
        "]"
      ],
      "execution_count": null,
      "outputs": []
    },
    {
      "cell_type": "code",
      "metadata": {
        "id": "ELwheBCFwEIc",
        "colab": {
          "base_uri": "https://localhost:8080/",
          "height": 34
        },
        "outputId": "0998d11f-e070-4328-bde6-8b63e91d34be"
      },
      "source": [
        "# loop over the datasets\n",
        "for (dType, imagePaths, baseOutput) in datasets:\n",
        "\t# show which data split we are creating\n",
        "\tprint(\"[INFO] building '{}' split\".format(dType))\n",
        "\t# if the output base output directory does not exist, create it\n",
        "\tif not os.path.exists(baseOutput):\n",
        "\t\tprint(\"[INFO] 'creating {}' directory\".format(baseOutput))\n",
        "\t\tos.makedirs(baseOutput)\n",
        "\t# loop over the input image paths\n",
        "\tfor inputPath in imagePaths:\n",
        "\t\t# extract the filename of the input image and extract the\n",
        "\t\t# class label (\"0\" for \"negative\" and \"1\" for \"positive\")\n",
        "\t\tfilename = inputPath.split(os.path.sep)[-1]\n",
        "\t\tlabel = filename[-5:-4]\n",
        "\t\t# build the path to the label directory\n",
        "\t\tlabelPath = os.path.sep.join([baseOutput, label])\n",
        "\t\t# if the label output directory does not exist, create it\n",
        "\t\tif not os.path.exists(labelPath):\n",
        "\t\t\tprint(\"[INFO] 'creating {}' directory\".format(labelPath))\n",
        "\t\t\tos.makedirs(labelPath)\n",
        "\t\t# construct the path to the destination image and then copy\n",
        "\t\t# the image itself\n",
        "\t\tp = os.path.sep.join([labelPath, filename])\n",
        "\t\tshutil.copy2(inputPath, p)"
      ],
      "execution_count": null,
      "outputs": [
        {
          "output_type": "stream",
          "text": [
            "[INFO] building 'training' split\n"
          ],
          "name": "stdout"
        }
      ]
    },
    {
      "cell_type": "code",
      "metadata": {
        "id": "1zy3P2maWdBG",
        "colab": {
          "base_uri": "https://localhost:8080/",
          "height": 35
        },
        "outputId": "58b6c5c1-9ecb-43fd-d72d-e47bfdfd17d0"
      },
      "source": [
        "p = os.path.sep.join([labelPath, filename])\n",
        "shutil.copy2(inputPath, p)"
      ],
      "execution_count": null,
      "outputs": [
        {
          "output_type": "execute_result",
          "data": {
            "application/vnd.google.colaboratory.intrinsic": {
              "type": "string"
            },
            "text/plain": [
              "'/content/drive/My Drive/idc/testing/1/10262_idx5_x1601_y1951_class1.png'"
            ]
          },
          "metadata": {
            "tags": []
          },
          "execution_count": 11
        }
      ]
    },
    {
      "cell_type": "code",
      "metadata": {
        "id": "u-V7IF690TXg",
        "colab": {
          "base_uri": "https://localhost:8080/",
          "height": 34
        },
        "outputId": "6ba51f45-95de-4296-f76b-27a5856b9dcf"
      },
      "source": [
        "from keras.models import Sequential\n",
        "from keras.layers.normalization import BatchNormalization\n",
        "from keras.layers.convolutional import SeparableConv2D\n",
        "from keras.layers.convolutional import MaxPooling2D\n",
        "from keras.layers.core import Activation\n",
        "from keras.layers.core import Flatten\n",
        "from keras.layers.core import Dropout\n",
        "from keras.layers.core import Dense\n",
        "from keras import backend as K\n",
        "class CancerNet:\n",
        "  @staticmethod\n",
        "  def build(width,height,depth,classes):\n",
        "    model=Sequential()\n",
        "    shape=(height,width,depth)\n",
        "    channelDim=-1\n",
        "    if K.image_data_format()==\"channels_first\":\n",
        "      shape=(depth,height,width)\n",
        "      channelDim=1\n",
        "    model.add(SeparableConv2D(32, (3,3), padding=\"same\",input_shape=shape))\n",
        "    model.add(Activation(\"relu\"))\n",
        "    model.add(BatchNormalization(axis=channelDim))\n",
        "    model.add(MaxPooling2D(pool_size=(2,2)))\n",
        "    model.add(Dropout(0.25))\n",
        "    model.add(SeparableConv2D(64, (3,3), padding=\"same\"))\n",
        "    model.add(Activation(\"relu\"))\n",
        "    model.add(BatchNormalization(axis=channelDim))\n",
        "    model.add(SeparableConv2D(64, (3,3), padding=\"same\"))\n",
        "    model.add(Activation(\"relu\"))\n",
        "    model.add(BatchNormalization(axis=channelDim))\n",
        "    model.add(MaxPooling2D(pool_size=(2,2)))\n",
        "    model.add(Dropout(0.25))\n",
        "    model.add(SeparableConv2D(128, (3,3), padding=\"same\"))\n",
        "    model.add(Activation(\"relu\"))\n",
        "    model.add(BatchNormalization(axis=channelDim))\n",
        "    model.add(SeparableConv2D(128, (3,3), padding=\"same\"))\n",
        "    model.add(Activation(\"relu\"))\n",
        "    model.add(BatchNormalization(axis=channelDim))\n",
        "    model.add(SeparableConv2D(128, (3,3), padding=\"same\"))\n",
        "    model.add(Activation(\"relu\"))\n",
        "    model.add(BatchNormalization(axis=channelDim))\n",
        "    model.add(MaxPooling2D(pool_size=(2,2)))\n",
        "    model.add(Dropout(0.25))\n",
        "    model.add(Flatten())\n",
        "    model.add(Dense(256))\n",
        "    model.add(Activation(\"relu\"))\n",
        "    model.add(BatchNormalization())\n",
        "    model.add(Dropout(0.5))\n",
        "    model.add(Dense(classes))\n",
        "    model.add(Activation(\"softmax\"))\n",
        "    return model"
      ],
      "execution_count": null,
      "outputs": [
        {
          "output_type": "stream",
          "text": [
            "Using TensorFlow backend.\n"
          ],
          "name": "stderr"
        }
      ]
    },
    {
      "cell_type": "code",
      "metadata": {
        "id": "xsrfjbaG0mpn"
      },
      "source": [
        "import matplotlib\n",
        "matplotlib.use(\"Agg\")\n",
        "from keras.preprocessing.image import ImageDataGenerator\n",
        "from keras.callbacks import LearningRateScheduler\n",
        "from keras.optimizers import Adagrad\n",
        "from keras.utils import np_utils\n",
        "from sklearn.metrics import classification_report\n",
        "from sklearn.metrics import confusion_matrix\n",
        "#from cancernet.cancernet import CancerNet\n",
        "#from cancernet import config\n",
        "from imutils import paths\n",
        "import matplotlib.pyplot as plt\n",
        "import numpy as np\n",
        "import os\n",
        "NUM_EPOCHS=40; INIT_LR=1e-2; BS=32\n",
        "trainPaths=list(paths.list_images(TRAIN_PATH))\n",
        "lenTrain=len(trainPaths)\n",
        "lenVal=len(list(paths.list_images(VAL_PATH)))\n",
        "lenTest=len(list(paths.list_images(TEST_PATH)))\n"
      ],
      "execution_count": null,
      "outputs": []
    },
    {
      "cell_type": "code",
      "metadata": {
        "id": "2Luw7NxQ3vVb",
        "colab": {
          "base_uri": "https://localhost:8080/",
          "height": 54
        },
        "outputId": "0ed5de93-0b71-4b84-ce34-2fc9a027b97c"
      },
      "source": [
        "trainLabels=[int(p.split(os.path.sep)[-2]) for p in trainPaths]\n",
        "print(trainLabels)\n",
        "trainLabels=np_utils.to_categorical(trainLabels)\n",
        "#print(trainLabels)\n",
        "classTotals=trainLabels.sum(axis=0)\n",
        "classWeight=classTotals.max()/classTotals"
      ],
      "execution_count": null,
      "outputs": [
        {
          "output_type": "stream",
          "text": [
            "[0, 0, 0, 0, 0, 0, 0, 0, 0, 0, 0, 0, 0, 0, 0, 0, 0, 0, 0, 0, 0, 0, 0, 0, 0, 0, 0, 0, 0, 0, 0, 0, 0, 0, 0, 0, 0, 0, 0, 0, 0, 0, 0, 0, 0, 0, 0, 0, 0, 0, 0, 0, 0, 0, 0, 0, 0, 0, 0, 0, 0, 0, 0, 0, 0, 0, 0, 0, 0, 0, 0, 0, 0, 0, 0, 0, 0, 0, 0, 0, 0, 0, 0, 0, 0, 0, 0, 0, 0, 0, 0, 0, 0, 0, 0, 0, 0, 0, 0, 0, 0, 0, 0, 0, 0, 0, 0, 0, 0, 0, 0, 0, 0, 0, 0, 0, 0, 0, 0, 0, 0, 0, 0, 0, 0, 0, 0, 0, 0, 0, 0, 0, 0, 0, 0, 0, 0, 0, 0, 0, 0, 0, 0, 0, 0, 0, 0, 0, 0, 0, 0, 0, 0, 0, 0, 0, 0, 0, 0, 0, 0, 0, 0, 0, 0, 0, 0, 0, 0, 0, 0, 0, 0, 0, 0, 0, 0, 0, 0, 0, 0, 0, 0, 0, 0, 0, 0, 0, 0, 0, 0, 0, 0, 0, 0, 0, 0, 0, 0, 0, 0, 0, 0, 0, 0, 0, 0, 0, 0, 0, 0, 0, 0, 0, 0, 0, 0, 0, 0, 0, 0, 0, 0, 0, 0, 0, 0, 0, 0, 0, 0, 0, 0, 0, 0, 0, 0, 0, 0, 0, 0, 0, 0, 0, 0, 0, 0, 0, 0, 0, 0, 0, 0, 0, 0, 0, 0, 0, 0, 0, 0, 0, 0, 0, 0, 0, 0, 0, 0, 0, 0, 0, 0, 0, 0, 0, 0, 0, 0, 0, 0, 0, 0, 0, 0, 0, 0, 0, 0, 0, 0, 0, 0, 0, 0, 0, 0, 0, 0, 0, 0, 0, 0, 0, 0, 0, 0, 0, 0, 0, 0, 0, 0, 0, 0, 0, 0, 0, 0, 0, 0, 0, 0, 0, 0, 0, 0, 0, 0, 0, 0, 0, 0, 0, 0, 0, 0, 0, 0, 0, 0, 0, 0, 0, 0, 0, 0, 0, 0, 0, 0, 0, 0, 0, 0, 0, 0, 0, 0, 0, 0, 0, 0, 0, 0, 0, 0, 0, 0, 0, 0, 0, 0, 0, 0, 0, 0, 0, 0, 0, 0, 0, 0, 0, 0, 0, 0, 0, 0, 0, 0, 0, 0, 0, 0, 0, 0, 0, 0, 0, 0, 0, 0, 0, 0, 0, 0, 0, 0, 0, 0, 0, 0, 0, 0, 0, 0, 0, 0, 0, 0, 0, 0, 0, 0, 0, 0, 0, 0, 0, 0, 0, 0, 0, 0, 0, 0, 0, 0, 0, 0, 0, 0, 0, 0, 0, 0, 0, 0, 0, 0, 0, 0, 0, 0, 0, 0, 0, 0, 0, 0, 0, 0, 0, 0, 0, 0, 0, 0, 0, 0, 0, 0, 0, 0, 0, 0, 0, 0, 0, 0, 0, 0, 0, 0, 0, 0, 0, 0, 0, 0, 0, 0, 0, 0, 0, 0, 0, 0, 0, 0, 0, 0, 0, 0, 0, 0, 0, 0, 0, 0, 0, 0, 0, 0, 0, 0, 0, 0, 0, 0, 0, 0, 0, 0, 0, 0, 0, 0, 0, 0, 0, 0, 0, 0, 0, 0, 0, 0, 0, 0, 0, 0, 0, 0, 0, 0, 0, 0, 0, 0, 0, 0, 0, 0, 0, 0, 0, 0, 0, 0, 0, 0, 0, 0, 0, 0, 0, 0, 0, 0, 0, 0, 0, 0, 0, 0, 0, 0, 0, 0, 0, 0, 0, 0, 0, 0, 0, 0, 0, 0, 0, 0, 0, 0, 0, 0, 0, 0, 0, 0, 0, 0, 0, 0, 0, 0, 0, 0, 0, 0, 0, 0, 0, 0, 0, 0, 0, 0, 0, 0, 0, 0, 0, 0, 0, 0, 0, 0, 0, 0, 0, 0, 0, 0, 0, 0, 0, 0, 0, 0, 0, 0, 0, 0, 0, 0, 0, 0, 0, 0, 0, 0, 0, 0, 0, 0, 0, 0, 0, 0, 0, 0, 0, 0, 0, 0, 0, 0, 0, 0, 0, 0, 0, 0, 0, 0, 0, 0, 0, 0, 0, 0, 0, 0, 0, 0, 0, 0, 0, 0, 0, 0, 0, 0, 0, 0, 0, 0, 0, 0, 0, 0, 0, 0, 0, 0, 0, 0, 0, 0, 0, 0, 0, 0, 0, 0, 0, 0, 0, 0, 0, 0, 0, 0, 0, 0, 0, 0, 0, 0, 0, 0, 0, 0, 0, 0, 0, 0, 0, 0, 0, 0, 0, 0, 0, 0, 0, 0, 0, 0, 0, 0, 0, 0, 0, 0, 0, 0, 0, 0, 0, 0, 0, 0, 0, 0, 0, 0, 0, 0, 0, 0, 0, 0, 0, 0, 0, 0, 0, 0, 0, 0, 0, 0, 0, 0, 0, 0, 0, 0, 0, 0, 0, 0, 0, 0, 0, 0, 0, 0, 0, 0, 0, 0, 0, 0, 0, 0, 0, 0, 0, 0, 0, 0, 0, 0, 0, 0, 0, 0, 0, 0, 0, 0, 0, 0, 0, 0, 0, 0, 0, 0, 0, 0, 0, 0, 0, 0, 0, 0, 0, 0, 0, 0, 0, 0, 0, 0, 0, 0, 0, 0, 0, 0, 0, 0, 0, 0, 0, 0, 0, 0, 0, 0, 0, 0, 0, 0, 0, 0, 0, 0, 0, 0, 0, 0, 0, 0, 0, 0, 0, 0, 0, 0, 0, 0, 0, 0, 0, 0, 0, 0, 0, 0, 0, 0, 0, 0, 0, 0, 0, 0, 0, 0, 0, 0, 0, 0, 0, 0, 0, 0, 0, 0, 0, 0, 0, 0, 0, 0, 0, 0, 0, 0, 0, 0, 0, 0, 0, 0, 0, 0, 0, 0, 0, 0, 0, 0, 0, 0, 0, 0, 0, 0, 0, 0, 0, 0, 0, 0, 0, 0, 0, 0, 0, 0, 0, 0, 0, 0, 0, 0, 0, 0, 0, 0, 0, 0, 0, 0, 1, 1, 1, 1, 1, 1, 1, 1, 1, 1, 1, 1, 1, 1, 1, 1, 1, 1, 1, 1, 1, 1, 1, 1, 1, 1, 1, 1, 1, 1, 1, 1, 1, 1, 1, 1, 1, 1, 1, 1, 1, 1, 1, 1, 1, 1, 1, 1, 1, 1, 1, 1, 1, 1, 1, 1, 1, 1, 1, 1, 1, 1, 1, 1, 1, 1, 1, 1, 1, 1, 1, 1, 1, 1, 1, 1, 1, 1, 1, 1, 1, 1, 1, 1, 1, 1, 1, 1, 1, 1, 1, 1, 1, 1, 1, 1, 1, 1, 1, 1, 1, 1, 1, 1, 1, 1, 1, 1, 1, 1, 1, 1, 1, 1, 1, 1, 1, 1, 1, 1, 1, 1, 1, 1, 1, 1, 1, 1, 1, 1, 1, 1, 1, 1, 1, 1, 1, 1, 1, 1, 1, 1, 1, 1, 1, 1, 1, 1, 1, 1, 1, 1, 1, 1, 1, 1, 1, 1, 1, 1, 1, 1, 1, 1, 1, 1, 1, 1, 1, 1, 1, 1, 1, 1, 1, 1, 1, 1, 1, 1, 1, 1, 1, 1, 1, 1, 1, 1, 1, 1, 1, 1, 1, 1, 1, 1, 1, 1, 1, 1, 1, 1, 1, 1, 1, 1, 1, 1, 1, 1, 1, 1, 1, 1, 1, 1, 1, 1, 1, 1, 1, 1, 1, 1, 1, 1, 1, 1, 1, 1, 1, 1, 1, 1, 1, 1, 1, 1, 1, 1, 1, 1, 1, 1, 1, 1, 1, 1, 1, 1, 1, 1, 1, 1, 1, 1, 1, 1, 1, 1, 1, 1, 1, 1, 1, 1, 1, 1, 1, 1, 1, 1, 1, 1, 1, 1, 1, 1, 1, 1, 1, 1, 1, 1, 1, 1, 1, 1, 1, 1, 1, 1, 1, 1, 1, 1, 1, 1, 1, 1, 1, 1, 1, 1, 1, 1, 1, 1, 1, 1, 1, 1, 1, 1, 1, 1, 1, 1, 1, 1, 1, 1, 1, 1, 1, 1, 1, 1, 1, 1, 1, 1, 1, 1, 1, 1, 1, 1, 1, 1, 1, 1, 1, 1, 1, 1, 1, 1, 1, 1, 1, 1, 1, 1, 1, 1, 1, 1, 1, 1, 1, 1, 1, 1, 1, 1, 1, 1, 1, 1, 1, 1, 1, 1, 1, 1, 1, 1, 1, 1, 1, 1, 1, 1, 1, 1, 1, 1, 1, 1, 1, 1, 1, 1, 1, 1, 1, 1, 1, 1, 1, 1, 1, 1, 1, 1, 1, 1, 1, 1, 1, 1, 1, 1, 1, 1, 1, 1, 1, 1, 1, 1, 1, 1, 1, 1, 1, 1, 1, 1, 1, 1, 1, 1, 1, 1, 1, 1, 1, 1, 1, 1, 1, 1, 1, 1, 1, 1, 1, 1, 1, 1, 1, 1, 1, 1, 1, 1, 1, 1, 1, 1, 1, 1, 1, 1, 1, 1, 1, 1, 1, 1, 1, 1, 1, 1, 1, 1, 1, 1, 1, 1, 1, 1, 1, 1, 1, 1, 1, 1, 1, 1, 1, 1, 1, 1, 1, 1, 1, 1, 1, 1, 1, 1, 1, 1, 1, 1, 1, 1, 1, 1, 1, 1, 1, 1, 1, 1, 1, 1, 1, 1, 1, 1, 1, 1, 1, 1, 1, 1, 1, 1, 1, 1, 1, 1, 1, 1, 1, 1, 1, 1, 1, 1, 1, 1, 1, 1, 1, 1, 1, 1, 1, 1, 1, 1, 1, 1, 1, 1, 1, 1, 1, 1, 1, 1, 1, 1, 1, 1, 1, 1, 1, 1, 1, 1, 1, 1, 1, 1, 1, 1, 1, 1, 1, 1, 1, 1, 1, 1, 1, 1, 1, 1, 1, 1, 1, 1, 1, 1, 1, 1, 1, 1, 1, 1, 1, 1, 1, 1, 1, 1, 1, 1, 1, 1, 1, 1, 1, 1, 1, 1, 1, 1, 1, 1, 1, 1, 1, 1, 1, 1, 1, 1, 1, 1, 1, 1, 1, 1, 1, 1, 1, 1, 1, 1, 1, 1, 1, 1, 1, 1, 1, 1, 1, 1, 1, 1, 1, 1, 1, 1, 1, 1, 1, 1, 1, 1, 1, 1, 1, 1, 1, 1, 1, 1, 1, 1, 1, 1, 1, 1]\n"
          ],
          "name": "stdout"
        }
      ]
    },
    {
      "cell_type": "code",
      "metadata": {
        "id": "Fif43s-xxKJ7",
        "colab": {
          "base_uri": "https://localhost:8080/",
          "height": 1000
        },
        "outputId": "61e10a9f-a633-46ad-e84b-2f4ea0e75898"
      },
      "source": [
        "trainAug = ImageDataGenerator(\n",
        "  rescale=1/255.0,\n",
        "  rotation_range=20,\n",
        "  zoom_range=0.05,\n",
        "  width_shift_range=0.1,\n",
        "  height_shift_range=0.1,\n",
        "  shear_range=0.05,\n",
        "  horizontal_flip=True,\n",
        "  vertical_flip=True,\n",
        "  fill_mode=\"nearest\")\n",
        "valAug=ImageDataGenerator(rescale=1 / 255.0)\n",
        "trainGen = trainAug.flow_from_directory(\n",
        "  TRAIN_PATH,\n",
        "  class_mode=\"categorical\",\n",
        "  target_size=(48,48),\n",
        "  color_mode=\"rgb\",\n",
        "  shuffle=True,\n",
        "  batch_size=BS)\n",
        "valGen = valAug.flow_from_directory(\n",
        " VAL_PATH,\n",
        "  class_mode=\"categorical\",\n",
        "  target_size=(48,48),\n",
        "  color_mode=\"rgb\",\n",
        "  shuffle=False,\n",
        "  batch_size=BS)\n",
        "testGen = valAug.flow_from_directory(\n",
        "  TEST_PATH,\n",
        "  class_mode=\"categorical\",\n",
        "  target_size=(48,48),\n",
        "  color_mode=\"rgb\",\n",
        "  shuffle=False,\n",
        "  batch_size=BS)\n",
        "model=CancerNet.build(width=48,height=48,depth=3,classes=2)\n",
        "opt=Adagrad(lr=INIT_LR,decay=INIT_LR/NUM_EPOCHS)\n",
        "model.compile(loss=\"binary_crossentropy\",optimizer=opt,metrics=[\"accuracy\"])\n",
        "M=model.fit_generator(\n",
        "  trainGen,\n",
        "  steps_per_epoch=lenTrain//BS,\n",
        "  validation_data=valGen,\n",
        "  validation_steps=lenVal//BS,\n",
        "  class_weight=classWeight,\n",
        "  epochs=NUM_EPOCHS)\n",
        "print(\"Now evaluating the model\")\n",
        "testGen.reset()\n",
        "pred_indices=model.predict_generator(testGen,steps=(lenTest//BS)+1)\n",
        "pred_indices=np.argmax(pred_indices,axis=1)\n",
        "print(classification_report(testGen.classes, pred_indices, target_names=testGen.class_indices.keys()))\n",
        "cm=confusion_matrix(testGen.classes,pred_indices)\n",
        "total=sum(sum(cm))\n",
        "accuracy=(cm[0,0]+cm[1,1])/total\n",
        "specificity=cm[1,1]/(cm[1,0]+cm[1,1])\n",
        "sensitivity=cm[0,0]/(cm[0,0]+cm[0,1])\n",
        "print(cm)\n",
        "print(f'Accuracy: {accuracy}')\n",
        "print(f'Specificity: {specificity}')\n",
        "print(f'Sensitivity: {sensitivity}')\n",
        "N = NUM_EPOCHS\n",
        "plt.style.use(\"ggplot\")\n",
        "plt.figure()\n",
        "plt.plot(np.arange(0,N), M.history[\"loss\"], label=\"train_loss\")\n",
        "plt.plot(np.arange(0,N), M.history[\"val_loss\"], label=\"val_loss\")"
      ],
      "execution_count": null,
      "outputs": [
        {
          "output_type": "stream",
          "text": [
            "Found 1653 images belonging to 2 classes.\n",
            "Found 274 images belonging to 2 classes.\n",
            "Found 653 images belonging to 2 classes.\n",
            "Epoch 1/40\n",
            "51/51 [==============================] - 66s 1s/step - loss: 0.4780 - accuracy: 0.8075 - val_loss: 0.0763 - val_accuracy: 0.3281\n",
            "Epoch 2/40\n",
            "51/51 [==============================] - 19s 373ms/step - loss: 0.3687 - accuracy: 0.8425 - val_loss: 0.0244 - val_accuracy: 0.2893\n",
            "Epoch 3/40\n",
            "51/51 [==============================] - 18s 362ms/step - loss: 0.3722 - accuracy: 0.8447 - val_loss: 3.4021 - val_accuracy: 0.2893\n",
            "Epoch 4/40\n",
            "51/51 [==============================] - 18s 360ms/step - loss: 0.3567 - accuracy: 0.8489 - val_loss: 14.8663 - val_accuracy: 0.3388\n",
            "Epoch 5/40\n",
            "51/51 [==============================] - 18s 362ms/step - loss: 0.3225 - accuracy: 0.8606 - val_loss: 15.3371 - val_accuracy: 0.4215\n",
            "Epoch 6/40\n",
            "51/51 [==============================] - 18s 362ms/step - loss: 0.3409 - accuracy: 0.8489 - val_loss: 15.3371 - val_accuracy: 0.4215\n",
            "Epoch 7/40\n",
            "51/51 [==============================] - 18s 359ms/step - loss: 0.3477 - accuracy: 0.8439 - val_loss: 15.3371 - val_accuracy: 0.4215\n",
            "Epoch 8/40\n",
            "51/51 [==============================] - 18s 360ms/step - loss: 0.3157 - accuracy: 0.8676 - val_loss: 15.3371 - val_accuracy: 0.4215\n",
            "Epoch 9/40\n",
            "51/51 [==============================] - 18s 359ms/step - loss: 0.3232 - accuracy: 0.8540 - val_loss: 0.0000e+00 - val_accuracy: 0.4215\n",
            "Epoch 10/40\n",
            "51/51 [==============================] - 18s 362ms/step - loss: 0.3225 - accuracy: 0.8621 - val_loss: 0.0000e+00 - val_accuracy: 0.3281\n",
            "Epoch 11/40\n",
            "51/51 [==============================] - 18s 361ms/step - loss: 0.3152 - accuracy: 0.8674 - val_loss: 0.0000e+00 - val_accuracy: 0.2893\n",
            "Epoch 12/40\n",
            "51/51 [==============================] - 18s 357ms/step - loss: 0.3426 - accuracy: 0.8571 - val_loss: 4.8373 - val_accuracy: 0.2893\n",
            "Epoch 13/40\n",
            "51/51 [==============================] - 18s 360ms/step - loss: 0.3016 - accuracy: 0.8723 - val_loss: 9.4984 - val_accuracy: 0.3430\n",
            "Epoch 14/40\n",
            "51/51 [==============================] - 18s 360ms/step - loss: 0.3243 - accuracy: 0.8550 - val_loss: 3.8654 - val_accuracy: 0.4463\n",
            "Epoch 15/40\n",
            "51/51 [==============================] - 19s 368ms/step - loss: 0.3210 - accuracy: 0.8563 - val_loss: 3.2224 - val_accuracy: 0.4504\n",
            "Epoch 16/40\n",
            "51/51 [==============================] - 19s 365ms/step - loss: 0.3019 - accuracy: 0.8674 - val_loss: 2.0871 - val_accuracy: 0.5744\n",
            "Epoch 17/40\n",
            "51/51 [==============================] - 18s 362ms/step - loss: 0.3285 - accuracy: 0.8560 - val_loss: 0.9894 - val_accuracy: 0.6322\n",
            "Epoch 18/40\n",
            "51/51 [==============================] - 18s 356ms/step - loss: 0.2996 - accuracy: 0.8671 - val_loss: 0.3990 - val_accuracy: 0.5744\n",
            "Epoch 19/40\n",
            "51/51 [==============================] - 19s 364ms/step - loss: 0.3075 - accuracy: 0.8630 - val_loss: 0.1563 - val_accuracy: 0.5430\n",
            "Epoch 20/40\n",
            "51/51 [==============================] - 18s 359ms/step - loss: 0.3064 - accuracy: 0.8630 - val_loss: 0.0833 - val_accuracy: 0.5702\n",
            "Epoch 21/40\n",
            "51/51 [==============================] - 18s 362ms/step - loss: 0.2891 - accuracy: 0.8787 - val_loss: 0.4589 - val_accuracy: 0.6281\n",
            "Epoch 22/40\n",
            "51/51 [==============================] - 18s 356ms/step - loss: 0.3055 - accuracy: 0.8683 - val_loss: 0.6928 - val_accuracy: 0.7314\n",
            "Epoch 23/40\n",
            "51/51 [==============================] - 18s 360ms/step - loss: 0.2897 - accuracy: 0.8686 - val_loss: 0.7104 - val_accuracy: 0.7273\n",
            "Epoch 24/40\n",
            "51/51 [==============================] - 18s 358ms/step - loss: 0.3151 - accuracy: 0.8593 - val_loss: 0.7225 - val_accuracy: 0.7686\n",
            "Epoch 25/40\n",
            "51/51 [==============================] - 18s 360ms/step - loss: 0.2847 - accuracy: 0.8692 - val_loss: 0.7721 - val_accuracy: 0.8058\n",
            "Epoch 26/40\n",
            "51/51 [==============================] - 18s 361ms/step - loss: 0.3022 - accuracy: 0.8664 - val_loss: 0.3296 - val_accuracy: 0.8347\n",
            "Epoch 27/40\n",
            "51/51 [==============================] - 18s 356ms/step - loss: 0.3022 - accuracy: 0.8655 - val_loss: 0.5714 - val_accuracy: 0.7066\n",
            "Epoch 28/40\n",
            "51/51 [==============================] - 18s 359ms/step - loss: 0.2822 - accuracy: 0.8735 - val_loss: 0.1870 - val_accuracy: 0.5938\n",
            "Epoch 29/40\n",
            "51/51 [==============================] - 18s 358ms/step - loss: 0.2947 - accuracy: 0.8705 - val_loss: 0.1121 - val_accuracy: 0.7810\n",
            "Epoch 30/40\n",
            "51/51 [==============================] - 18s 357ms/step - loss: 0.2965 - accuracy: 0.8649 - val_loss: 0.4199 - val_accuracy: 0.7603\n",
            "Epoch 31/40\n",
            "51/51 [==============================] - 18s 359ms/step - loss: 0.2784 - accuracy: 0.8846 - val_loss: 0.6841 - val_accuracy: 0.8017\n",
            "Epoch 32/40\n",
            "51/51 [==============================] - 19s 373ms/step - loss: 0.3037 - accuracy: 0.8612 - val_loss: 0.2849 - val_accuracy: 0.8554\n",
            "Epoch 33/40\n",
            "51/51 [==============================] - 19s 372ms/step - loss: 0.2791 - accuracy: 0.8760 - val_loss: 0.4801 - val_accuracy: 0.8058\n",
            "Epoch 34/40\n",
            "51/51 [==============================] - 18s 353ms/step - loss: 0.2901 - accuracy: 0.8745 - val_loss: 1.1759 - val_accuracy: 0.7893\n",
            "Epoch 35/40\n",
            "51/51 [==============================] - 18s 361ms/step - loss: 0.2890 - accuracy: 0.8676 - val_loss: 0.3893 - val_accuracy: 0.7934\n",
            "Epoch 36/40\n",
            "51/51 [==============================] - 18s 356ms/step - loss: 0.2878 - accuracy: 0.8733 - val_loss: 0.5848 - val_accuracy: 0.8223\n",
            "Epoch 37/40\n",
            "51/51 [==============================] - 18s 357ms/step - loss: 0.2821 - accuracy: 0.8762 - val_loss: 0.4749 - val_accuracy: 0.8594\n",
            "Epoch 38/40\n",
            "51/51 [==============================] - 18s 356ms/step - loss: 0.3049 - accuracy: 0.8686 - val_loss: 0.2020 - val_accuracy: 0.8017\n",
            "Epoch 39/40\n",
            "51/51 [==============================] - 18s 359ms/step - loss: 0.2831 - accuracy: 0.8779 - val_loss: 0.4081 - val_accuracy: 0.7769\n",
            "Epoch 40/40\n",
            "51/51 [==============================] - 18s 356ms/step - loss: 0.3176 - accuracy: 0.8621 - val_loss: 0.5430 - val_accuracy: 0.8017\n",
            "Now evaluating the model\n",
            "              precision    recall  f1-score   support\n",
            "\n",
            "           0       0.84      0.86      0.85       369\n",
            "           1       0.81      0.78      0.80       284\n",
            "\n",
            "    accuracy                           0.83       653\n",
            "   macro avg       0.82      0.82      0.82       653\n",
            "weighted avg       0.83      0.83      0.83       653\n",
            "\n",
            "[[317  52]\n",
            " [ 62 222]]\n",
            "Accuracy: 0.8254211332312404\n",
            "Specificity: 0.7816901408450704\n",
            "Sensitivity: 0.8590785907859079\n"
          ],
          "name": "stdout"
        },
        {
          "output_type": "execute_result",
          "data": {
            "text/plain": [
              "[<matplotlib.lines.Line2D at 0x7f338fdc06a0>]"
            ]
          },
          "metadata": {
            "tags": []
          },
          "execution_count": 10
        }
      ]
    },
    {
      "cell_type": "code",
      "metadata": {
        "id": "8qept5hI2jWd"
      },
      "source": [],
      "execution_count": null,
      "outputs": []
    }
  ]
}